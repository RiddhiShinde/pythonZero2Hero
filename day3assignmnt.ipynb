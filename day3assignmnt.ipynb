{
 "cells": [
  {
   "cell_type": "markdown",
   "id": "901dbe91",
   "metadata": {},
   "source": [
    "create a dataframe using np.random.rand function with 5 rows and 4 columns and perform various operations using pandas library"
   ]
  },
  {
   "cell_type": "code",
   "execution_count": 1,
   "id": "8e601d72",
   "metadata": {},
   "outputs": [],
   "source": [
    "import pandas as pd\n",
    "import numpy as np"
   ]
  },
  {
   "cell_type": "code",
   "execution_count": 3,
   "id": "17103e85",
   "metadata": {},
   "outputs": [],
   "source": [
    "a= np.random.rand(5,5)"
   ]
  },
  {
   "cell_type": "code",
   "execution_count": 4,
   "id": "808c7f46",
   "metadata": {},
   "outputs": [
    {
     "data": {
      "text/plain": [
       "array([[0.36213474, 0.73849951, 0.29519488, 0.40088468, 0.81380169],\n",
       "       [0.07944747, 0.32928065, 0.31695807, 0.66929867, 0.71713138],\n",
       "       [0.16006889, 0.34792552, 0.93012055, 0.94095856, 0.09672937],\n",
       "       [0.51350361, 0.0821075 , 0.61640181, 0.00511439, 0.38469489],\n",
       "       [0.75593476, 0.0135035 , 0.03354386, 0.30841786, 0.82777506]])"
      ]
     },
     "execution_count": 4,
     "metadata": {},
     "output_type": "execute_result"
    }
   ],
   "source": [
    "a"
   ]
  },
  {
   "cell_type": "code",
   "execution_count": 6,
   "id": "7cf377e4",
   "metadata": {},
   "outputs": [],
   "source": [
    "df= pd.DataFrame(np.random.rand(5,5), index=['row1','row2','row3','row4','row5'],columns=['column1','column2','column3','column4','column5'])"
   ]
  },
  {
   "cell_type": "code",
   "execution_count": 7,
   "id": "cfc354e8",
   "metadata": {},
   "outputs": [
    {
     "data": {
      "text/html": [
       "<div>\n",
       "<style scoped>\n",
       "    .dataframe tbody tr th:only-of-type {\n",
       "        vertical-align: middle;\n",
       "    }\n",
       "\n",
       "    .dataframe tbody tr th {\n",
       "        vertical-align: top;\n",
       "    }\n",
       "\n",
       "    .dataframe thead th {\n",
       "        text-align: right;\n",
       "    }\n",
       "</style>\n",
       "<table border=\"1\" class=\"dataframe\">\n",
       "  <thead>\n",
       "    <tr style=\"text-align: right;\">\n",
       "      <th></th>\n",
       "      <th>column1</th>\n",
       "      <th>column2</th>\n",
       "      <th>column3</th>\n",
       "      <th>column4</th>\n",
       "      <th>column5</th>\n",
       "    </tr>\n",
       "  </thead>\n",
       "  <tbody>\n",
       "    <tr>\n",
       "      <th>row1</th>\n",
       "      <td>0.178780</td>\n",
       "      <td>0.920643</td>\n",
       "      <td>0.501816</td>\n",
       "      <td>0.983215</td>\n",
       "      <td>0.550805</td>\n",
       "    </tr>\n",
       "    <tr>\n",
       "      <th>row2</th>\n",
       "      <td>0.574543</td>\n",
       "      <td>0.775354</td>\n",
       "      <td>0.184688</td>\n",
       "      <td>0.109905</td>\n",
       "      <td>0.540955</td>\n",
       "    </tr>\n",
       "    <tr>\n",
       "      <th>row3</th>\n",
       "      <td>0.116803</td>\n",
       "      <td>0.625295</td>\n",
       "      <td>0.053956</td>\n",
       "      <td>0.164191</td>\n",
       "      <td>0.841587</td>\n",
       "    </tr>\n",
       "    <tr>\n",
       "      <th>row4</th>\n",
       "      <td>0.747963</td>\n",
       "      <td>0.523414</td>\n",
       "      <td>0.075470</td>\n",
       "      <td>0.244500</td>\n",
       "      <td>0.097586</td>\n",
       "    </tr>\n",
       "    <tr>\n",
       "      <th>row5</th>\n",
       "      <td>0.326420</td>\n",
       "      <td>0.062926</td>\n",
       "      <td>0.249029</td>\n",
       "      <td>0.652515</td>\n",
       "      <td>0.492887</td>\n",
       "    </tr>\n",
       "  </tbody>\n",
       "</table>\n",
       "</div>"
      ],
      "text/plain": [
       "       column1   column2   column3   column4   column5\n",
       "row1  0.178780  0.920643  0.501816  0.983215  0.550805\n",
       "row2  0.574543  0.775354  0.184688  0.109905  0.540955\n",
       "row3  0.116803  0.625295  0.053956  0.164191  0.841587\n",
       "row4  0.747963  0.523414  0.075470  0.244500  0.097586\n",
       "row5  0.326420  0.062926  0.249029  0.652515  0.492887"
      ]
     },
     "execution_count": 7,
     "metadata": {},
     "output_type": "execute_result"
    }
   ],
   "source": [
    "df"
   ]
  },
  {
   "cell_type": "code",
   "execution_count": 8,
   "id": "0ff587b6",
   "metadata": {},
   "outputs": [
    {
     "data": {
      "text/html": [
       "<div>\n",
       "<style scoped>\n",
       "    .dataframe tbody tr th:only-of-type {\n",
       "        vertical-align: middle;\n",
       "    }\n",
       "\n",
       "    .dataframe tbody tr th {\n",
       "        vertical-align: top;\n",
       "    }\n",
       "\n",
       "    .dataframe thead th {\n",
       "        text-align: right;\n",
       "    }\n",
       "</style>\n",
       "<table border=\"1\" class=\"dataframe\">\n",
       "  <thead>\n",
       "    <tr style=\"text-align: right;\">\n",
       "      <th></th>\n",
       "      <th>column1</th>\n",
       "      <th>column2</th>\n",
       "      <th>column3</th>\n",
       "      <th>column4</th>\n",
       "      <th>column5</th>\n",
       "    </tr>\n",
       "  </thead>\n",
       "  <tbody>\n",
       "    <tr>\n",
       "      <th>row1</th>\n",
       "      <td>0.178780</td>\n",
       "      <td>0.920643</td>\n",
       "      <td>0.501816</td>\n",
       "      <td>0.983215</td>\n",
       "      <td>0.550805</td>\n",
       "    </tr>\n",
       "    <tr>\n",
       "      <th>row2</th>\n",
       "      <td>0.574543</td>\n",
       "      <td>0.775354</td>\n",
       "      <td>0.184688</td>\n",
       "      <td>0.109905</td>\n",
       "      <td>0.540955</td>\n",
       "    </tr>\n",
       "    <tr>\n",
       "      <th>row3</th>\n",
       "      <td>0.116803</td>\n",
       "      <td>0.625295</td>\n",
       "      <td>0.053956</td>\n",
       "      <td>0.164191</td>\n",
       "      <td>0.841587</td>\n",
       "    </tr>\n",
       "    <tr>\n",
       "      <th>row4</th>\n",
       "      <td>0.747963</td>\n",
       "      <td>0.523414</td>\n",
       "      <td>0.075470</td>\n",
       "      <td>0.244500</td>\n",
       "      <td>0.097586</td>\n",
       "    </tr>\n",
       "    <tr>\n",
       "      <th>row5</th>\n",
       "      <td>0.326420</td>\n",
       "      <td>0.062926</td>\n",
       "      <td>0.249029</td>\n",
       "      <td>0.652515</td>\n",
       "      <td>0.492887</td>\n",
       "    </tr>\n",
       "  </tbody>\n",
       "</table>\n",
       "</div>"
      ],
      "text/plain": [
       "       column1   column2   column3   column4   column5\n",
       "row1  0.178780  0.920643  0.501816  0.983215  0.550805\n",
       "row2  0.574543  0.775354  0.184688  0.109905  0.540955\n",
       "row3  0.116803  0.625295  0.053956  0.164191  0.841587\n",
       "row4  0.747963  0.523414  0.075470  0.244500  0.097586\n",
       "row5  0.326420  0.062926  0.249029  0.652515  0.492887"
      ]
     },
     "execution_count": 8,
     "metadata": {},
     "output_type": "execute_result"
    }
   ],
   "source": [
    "df.head()"
   ]
  },
  {
   "cell_type": "code",
   "execution_count": 9,
   "id": "4c1261de",
   "metadata": {},
   "outputs": [
    {
     "data": {
      "text/plain": [
       "row1    0.501816\n",
       "row2    0.184688\n",
       "row3    0.053956\n",
       "row4    0.075470\n",
       "row5    0.249029\n",
       "Name: column3, dtype: float64"
      ]
     },
     "execution_count": 9,
     "metadata": {},
     "output_type": "execute_result"
    }
   ],
   "source": [
    "df['column3']"
   ]
  },
  {
   "cell_type": "code",
   "execution_count": 10,
   "id": "13bb29ba",
   "metadata": {},
   "outputs": [
    {
     "data": {
      "text/html": [
       "<div>\n",
       "<style scoped>\n",
       "    .dataframe tbody tr th:only-of-type {\n",
       "        vertical-align: middle;\n",
       "    }\n",
       "\n",
       "    .dataframe tbody tr th {\n",
       "        vertical-align: top;\n",
       "    }\n",
       "\n",
       "    .dataframe thead th {\n",
       "        text-align: right;\n",
       "    }\n",
       "</style>\n",
       "<table border=\"1\" class=\"dataframe\">\n",
       "  <thead>\n",
       "    <tr style=\"text-align: right;\">\n",
       "      <th></th>\n",
       "      <th>column2</th>\n",
       "      <th>column3</th>\n",
       "    </tr>\n",
       "  </thead>\n",
       "  <tbody>\n",
       "    <tr>\n",
       "      <th>row1</th>\n",
       "      <td>0.920643</td>\n",
       "      <td>0.501816</td>\n",
       "    </tr>\n",
       "    <tr>\n",
       "      <th>row2</th>\n",
       "      <td>0.775354</td>\n",
       "      <td>0.184688</td>\n",
       "    </tr>\n",
       "    <tr>\n",
       "      <th>row3</th>\n",
       "      <td>0.625295</td>\n",
       "      <td>0.053956</td>\n",
       "    </tr>\n",
       "    <tr>\n",
       "      <th>row4</th>\n",
       "      <td>0.523414</td>\n",
       "      <td>0.075470</td>\n",
       "    </tr>\n",
       "    <tr>\n",
       "      <th>row5</th>\n",
       "      <td>0.062926</td>\n",
       "      <td>0.249029</td>\n",
       "    </tr>\n",
       "  </tbody>\n",
       "</table>\n",
       "</div>"
      ],
      "text/plain": [
       "       column2   column3\n",
       "row1  0.920643  0.501816\n",
       "row2  0.775354  0.184688\n",
       "row3  0.625295  0.053956\n",
       "row4  0.523414  0.075470\n",
       "row5  0.062926  0.249029"
      ]
     },
     "execution_count": 10,
     "metadata": {},
     "output_type": "execute_result"
    }
   ],
   "source": [
    "df[['column2','column3']]"
   ]
  },
  {
   "cell_type": "code",
   "execution_count": 11,
   "id": "2bf65400",
   "metadata": {},
   "outputs": [
    {
     "data": {
      "text/plain": [
       "column1    0.178780\n",
       "column2    0.920643\n",
       "column3    0.501816\n",
       "column4    0.983215\n",
       "column5    0.550805\n",
       "Name: row1, dtype: float64"
      ]
     },
     "execution_count": 11,
     "metadata": {},
     "output_type": "execute_result"
    }
   ],
   "source": [
    "df.loc['row1']"
   ]
  },
  {
   "cell_type": "code",
   "execution_count": 12,
   "id": "2d5ab290",
   "metadata": {},
   "outputs": [
    {
     "data": {
      "text/plain": [
       "pandas.core.series.Series"
      ]
     },
     "execution_count": 12,
     "metadata": {},
     "output_type": "execute_result"
    }
   ],
   "source": [
    "type(df.loc['row1'])"
   ]
  },
  {
   "cell_type": "code",
   "execution_count": 13,
   "id": "318e5d5d",
   "metadata": {},
   "outputs": [
    {
     "data": {
      "text/html": [
       "<div>\n",
       "<style scoped>\n",
       "    .dataframe tbody tr th:only-of-type {\n",
       "        vertical-align: middle;\n",
       "    }\n",
       "\n",
       "    .dataframe tbody tr th {\n",
       "        vertical-align: top;\n",
       "    }\n",
       "\n",
       "    .dataframe thead th {\n",
       "        text-align: right;\n",
       "    }\n",
       "</style>\n",
       "<table border=\"1\" class=\"dataframe\">\n",
       "  <thead>\n",
       "    <tr style=\"text-align: right;\">\n",
       "      <th></th>\n",
       "      <th>column1</th>\n",
       "      <th>column2</th>\n",
       "      <th>column3</th>\n",
       "      <th>column4</th>\n",
       "      <th>column5</th>\n",
       "    </tr>\n",
       "  </thead>\n",
       "  <tbody>\n",
       "    <tr>\n",
       "      <th>row1</th>\n",
       "      <td>0.178780</td>\n",
       "      <td>0.920643</td>\n",
       "      <td>0.501816</td>\n",
       "      <td>0.983215</td>\n",
       "      <td>0.550805</td>\n",
       "    </tr>\n",
       "    <tr>\n",
       "      <th>row2</th>\n",
       "      <td>0.574543</td>\n",
       "      <td>0.775354</td>\n",
       "      <td>0.184688</td>\n",
       "      <td>0.109905</td>\n",
       "      <td>0.540955</td>\n",
       "    </tr>\n",
       "    <tr>\n",
       "      <th>row3</th>\n",
       "      <td>0.116803</td>\n",
       "      <td>0.625295</td>\n",
       "      <td>0.053956</td>\n",
       "      <td>0.164191</td>\n",
       "      <td>0.841587</td>\n",
       "    </tr>\n",
       "    <tr>\n",
       "      <th>row4</th>\n",
       "      <td>0.747963</td>\n",
       "      <td>0.523414</td>\n",
       "      <td>0.075470</td>\n",
       "      <td>0.244500</td>\n",
       "      <td>0.097586</td>\n",
       "    </tr>\n",
       "    <tr>\n",
       "      <th>row5</th>\n",
       "      <td>0.326420</td>\n",
       "      <td>0.062926</td>\n",
       "      <td>0.249029</td>\n",
       "      <td>0.652515</td>\n",
       "      <td>0.492887</td>\n",
       "    </tr>\n",
       "  </tbody>\n",
       "</table>\n",
       "</div>"
      ],
      "text/plain": [
       "       column1   column2   column3   column4   column5\n",
       "row1  0.178780  0.920643  0.501816  0.983215  0.550805\n",
       "row2  0.574543  0.775354  0.184688  0.109905  0.540955\n",
       "row3  0.116803  0.625295  0.053956  0.164191  0.841587\n",
       "row4  0.747963  0.523414  0.075470  0.244500  0.097586\n",
       "row5  0.326420  0.062926  0.249029  0.652515  0.492887"
      ]
     },
     "execution_count": 13,
     "metadata": {},
     "output_type": "execute_result"
    }
   ],
   "source": [
    "df.iloc[:,:]"
   ]
  },
  {
   "cell_type": "code",
   "execution_count": 14,
   "id": "a09c7eb6",
   "metadata": {},
   "outputs": [
    {
     "data": {
      "text/html": [
       "<div>\n",
       "<style scoped>\n",
       "    .dataframe tbody tr th:only-of-type {\n",
       "        vertical-align: middle;\n",
       "    }\n",
       "\n",
       "    .dataframe tbody tr th {\n",
       "        vertical-align: top;\n",
       "    }\n",
       "\n",
       "    .dataframe thead th {\n",
       "        text-align: right;\n",
       "    }\n",
       "</style>\n",
       "<table border=\"1\" class=\"dataframe\">\n",
       "  <thead>\n",
       "    <tr style=\"text-align: right;\">\n",
       "      <th></th>\n",
       "      <th>column3</th>\n",
       "      <th>column4</th>\n",
       "      <th>column5</th>\n",
       "    </tr>\n",
       "  </thead>\n",
       "  <tbody>\n",
       "    <tr>\n",
       "      <th>row1</th>\n",
       "      <td>0.501816</td>\n",
       "      <td>0.983215</td>\n",
       "      <td>0.550805</td>\n",
       "    </tr>\n",
       "    <tr>\n",
       "      <th>row2</th>\n",
       "      <td>0.184688</td>\n",
       "      <td>0.109905</td>\n",
       "      <td>0.540955</td>\n",
       "    </tr>\n",
       "    <tr>\n",
       "      <th>row3</th>\n",
       "      <td>0.053956</td>\n",
       "      <td>0.164191</td>\n",
       "      <td>0.841587</td>\n",
       "    </tr>\n",
       "    <tr>\n",
       "      <th>row4</th>\n",
       "      <td>0.075470</td>\n",
       "      <td>0.244500</td>\n",
       "      <td>0.097586</td>\n",
       "    </tr>\n",
       "    <tr>\n",
       "      <th>row5</th>\n",
       "      <td>0.249029</td>\n",
       "      <td>0.652515</td>\n",
       "      <td>0.492887</td>\n",
       "    </tr>\n",
       "  </tbody>\n",
       "</table>\n",
       "</div>"
      ],
      "text/plain": [
       "       column3   column4   column5\n",
       "row1  0.501816  0.983215  0.550805\n",
       "row2  0.184688  0.109905  0.540955\n",
       "row3  0.053956  0.164191  0.841587\n",
       "row4  0.075470  0.244500  0.097586\n",
       "row5  0.249029  0.652515  0.492887"
      ]
     },
     "execution_count": 14,
     "metadata": {},
     "output_type": "execute_result"
    }
   ],
   "source": [
    "df.iloc[:,2:]"
   ]
  },
  {
   "cell_type": "code",
   "execution_count": 15,
   "id": "984e9d2f",
   "metadata": {},
   "outputs": [
    {
     "data": {
      "text/plain": [
       "array([[0.50181624, 0.98321506, 0.55080453],\n",
       "       [0.18468815, 0.10990451, 0.5409546 ],\n",
       "       [0.05395605, 0.16419138, 0.84158747],\n",
       "       [0.07547027, 0.24449957, 0.0975859 ],\n",
       "       [0.24902923, 0.65251516, 0.4928865 ]])"
      ]
     },
     "execution_count": 15,
     "metadata": {},
     "output_type": "execute_result"
    }
   ],
   "source": [
    "df.iloc[:,2:].values"
   ]
  },
  {
   "cell_type": "code",
   "execution_count": 16,
   "id": "48d43f89",
   "metadata": {},
   "outputs": [
    {
     "data": {
      "text/plain": [
       "column1    0\n",
       "column2    0\n",
       "column3    0\n",
       "column4    0\n",
       "column5    0\n",
       "dtype: int64"
      ]
     },
     "execution_count": 16,
     "metadata": {},
     "output_type": "execute_result"
    }
   ],
   "source": [
    "df.isnull().sum()"
   ]
  },
  {
   "cell_type": "code",
   "execution_count": 17,
   "id": "31066bba",
   "metadata": {},
   "outputs": [
    {
     "data": {
      "text/plain": [
       "0.116803    1\n",
       "0.574543    1\n",
       "0.747963    1\n",
       "0.326420    1\n",
       "0.178780    1\n",
       "Name: column1, dtype: int64"
      ]
     },
     "execution_count": 17,
     "metadata": {},
     "output_type": "execute_result"
    }
   ],
   "source": [
    "df['column1'].value_counts()"
   ]
  },
  {
   "cell_type": "code",
   "execution_count": 18,
   "id": "f733b706",
   "metadata": {},
   "outputs": [
    {
     "data": {
      "text/plain": [
       "array([0.17877977, 0.57454274, 0.11680266, 0.74796327, 0.32641988])"
      ]
     },
     "execution_count": 18,
     "metadata": {},
     "output_type": "execute_result"
    }
   ],
   "source": [
    "df['column1'].unique()"
   ]
  },
  {
   "cell_type": "code",
   "execution_count": 19,
   "id": "64af9d15",
   "metadata": {},
   "outputs": [
    {
     "name": "stdout",
     "output_type": "stream",
     "text": [
      "<class 'pandas.core.frame.DataFrame'>\n",
      "Index: 5 entries, row1 to row5\n",
      "Data columns (total 5 columns):\n",
      " #   Column   Non-Null Count  Dtype  \n",
      "---  ------   --------------  -----  \n",
      " 0   column1  5 non-null      float64\n",
      " 1   column2  5 non-null      float64\n",
      " 2   column3  5 non-null      float64\n",
      " 3   column4  5 non-null      float64\n",
      " 4   column5  5 non-null      float64\n",
      "dtypes: float64(5)\n",
      "memory usage: 412.0+ bytes\n"
     ]
    }
   ],
   "source": [
    "df.info()"
   ]
  },
  {
   "cell_type": "code",
   "execution_count": 20,
   "id": "73f5e6d9",
   "metadata": {},
   "outputs": [
    {
     "data": {
      "text/html": [
       "<div>\n",
       "<style scoped>\n",
       "    .dataframe tbody tr th:only-of-type {\n",
       "        vertical-align: middle;\n",
       "    }\n",
       "\n",
       "    .dataframe tbody tr th {\n",
       "        vertical-align: top;\n",
       "    }\n",
       "\n",
       "    .dataframe thead th {\n",
       "        text-align: right;\n",
       "    }\n",
       "</style>\n",
       "<table border=\"1\" class=\"dataframe\">\n",
       "  <thead>\n",
       "    <tr style=\"text-align: right;\">\n",
       "      <th></th>\n",
       "      <th>column1</th>\n",
       "      <th>column2</th>\n",
       "      <th>column3</th>\n",
       "      <th>column4</th>\n",
       "      <th>column5</th>\n",
       "    </tr>\n",
       "  </thead>\n",
       "  <tbody>\n",
       "    <tr>\n",
       "      <th>count</th>\n",
       "      <td>5.000000</td>\n",
       "      <td>5.000000</td>\n",
       "      <td>5.000000</td>\n",
       "      <td>5.000000</td>\n",
       "      <td>5.000000</td>\n",
       "    </tr>\n",
       "    <tr>\n",
       "      <th>mean</th>\n",
       "      <td>0.388902</td>\n",
       "      <td>0.581526</td>\n",
       "      <td>0.212992</td>\n",
       "      <td>0.430865</td>\n",
       "      <td>0.504764</td>\n",
       "    </tr>\n",
       "    <tr>\n",
       "      <th>std</th>\n",
       "      <td>0.267152</td>\n",
       "      <td>0.326653</td>\n",
       "      <td>0.180086</td>\n",
       "      <td>0.375194</td>\n",
       "      <td>0.265902</td>\n",
       "    </tr>\n",
       "    <tr>\n",
       "      <th>min</th>\n",
       "      <td>0.116803</td>\n",
       "      <td>0.062926</td>\n",
       "      <td>0.053956</td>\n",
       "      <td>0.109905</td>\n",
       "      <td>0.097586</td>\n",
       "    </tr>\n",
       "    <tr>\n",
       "      <th>25%</th>\n",
       "      <td>0.178780</td>\n",
       "      <td>0.523414</td>\n",
       "      <td>0.075470</td>\n",
       "      <td>0.164191</td>\n",
       "      <td>0.492887</td>\n",
       "    </tr>\n",
       "    <tr>\n",
       "      <th>50%</th>\n",
       "      <td>0.326420</td>\n",
       "      <td>0.625295</td>\n",
       "      <td>0.184688</td>\n",
       "      <td>0.244500</td>\n",
       "      <td>0.540955</td>\n",
       "    </tr>\n",
       "    <tr>\n",
       "      <th>75%</th>\n",
       "      <td>0.574543</td>\n",
       "      <td>0.775354</td>\n",
       "      <td>0.249029</td>\n",
       "      <td>0.652515</td>\n",
       "      <td>0.550805</td>\n",
       "    </tr>\n",
       "    <tr>\n",
       "      <th>max</th>\n",
       "      <td>0.747963</td>\n",
       "      <td>0.920643</td>\n",
       "      <td>0.501816</td>\n",
       "      <td>0.983215</td>\n",
       "      <td>0.841587</td>\n",
       "    </tr>\n",
       "  </tbody>\n",
       "</table>\n",
       "</div>"
      ],
      "text/plain": [
       "        column1   column2   column3   column4   column5\n",
       "count  5.000000  5.000000  5.000000  5.000000  5.000000\n",
       "mean   0.388902  0.581526  0.212992  0.430865  0.504764\n",
       "std    0.267152  0.326653  0.180086  0.375194  0.265902\n",
       "min    0.116803  0.062926  0.053956  0.109905  0.097586\n",
       "25%    0.178780  0.523414  0.075470  0.164191  0.492887\n",
       "50%    0.326420  0.625295  0.184688  0.244500  0.540955\n",
       "75%    0.574543  0.775354  0.249029  0.652515  0.550805\n",
       "max    0.747963  0.920643  0.501816  0.983215  0.841587"
      ]
     },
     "execution_count": 20,
     "metadata": {},
     "output_type": "execute_result"
    }
   ],
   "source": [
    "df.describe()"
   ]
  },
  {
   "cell_type": "code",
   "execution_count": 21,
   "id": "4fb3ee9a",
   "metadata": {},
   "outputs": [
    {
     "data": {
      "text/html": [
       "<div>\n",
       "<style scoped>\n",
       "    .dataframe tbody tr th:only-of-type {\n",
       "        vertical-align: middle;\n",
       "    }\n",
       "\n",
       "    .dataframe tbody tr th {\n",
       "        vertical-align: top;\n",
       "    }\n",
       "\n",
       "    .dataframe thead th {\n",
       "        text-align: right;\n",
       "    }\n",
       "</style>\n",
       "<table border=\"1\" class=\"dataframe\">\n",
       "  <thead>\n",
       "    <tr style=\"text-align: right;\">\n",
       "      <th></th>\n",
       "      <th>column1</th>\n",
       "      <th>column2</th>\n",
       "      <th>column3</th>\n",
       "      <th>column4</th>\n",
       "      <th>column5</th>\n",
       "    </tr>\n",
       "  </thead>\n",
       "  <tbody>\n",
       "    <tr>\n",
       "      <th>row1</th>\n",
       "      <td>0.17878</td>\n",
       "      <td>0.920643</td>\n",
       "      <td>0.501816</td>\n",
       "      <td>0.983215</td>\n",
       "      <td>0.550805</td>\n",
       "    </tr>\n",
       "    <tr>\n",
       "      <th>row5</th>\n",
       "      <td>0.32642</td>\n",
       "      <td>0.062926</td>\n",
       "      <td>0.249029</td>\n",
       "      <td>0.652515</td>\n",
       "      <td>0.492887</td>\n",
       "    </tr>\n",
       "  </tbody>\n",
       "</table>\n",
       "</div>"
      ],
      "text/plain": [
       "      column1   column2   column3   column4   column5\n",
       "row1  0.17878  0.920643  0.501816  0.983215  0.550805\n",
       "row5  0.32642  0.062926  0.249029  0.652515  0.492887"
      ]
     },
     "execution_count": 21,
     "metadata": {},
     "output_type": "execute_result"
    }
   ],
   "source": [
    "df[df['column4']>0.5]"
   ]
  },
  {
   "cell_type": "code",
   "execution_count": 22,
   "id": "7bca9ed7",
   "metadata": {},
   "outputs": [
    {
     "data": {
      "text/plain": [
       "<bound method DataFrame.corr of        column1   column2   column3   column4   column5\n",
       "row1  0.178780  0.920643  0.501816  0.983215  0.550805\n",
       "row2  0.574543  0.775354  0.184688  0.109905  0.540955\n",
       "row3  0.116803  0.625295  0.053956  0.164191  0.841587\n",
       "row4  0.747963  0.523414  0.075470  0.244500  0.097586\n",
       "row5  0.326420  0.062926  0.249029  0.652515  0.492887>"
      ]
     },
     "execution_count": 22,
     "metadata": {},
     "output_type": "execute_result"
    }
   ],
   "source": [
    "df.corr"
   ]
  },
  {
   "cell_type": "code",
   "execution_count": 24,
   "id": "cd2028fc",
   "metadata": {},
   "outputs": [
    {
     "data": {
      "text/html": [
       "<div>\n",
       "<style scoped>\n",
       "    .dataframe tbody tr th:only-of-type {\n",
       "        vertical-align: middle;\n",
       "    }\n",
       "\n",
       "    .dataframe tbody tr th {\n",
       "        vertical-align: top;\n",
       "    }\n",
       "\n",
       "    .dataframe thead th {\n",
       "        text-align: right;\n",
       "    }\n",
       "</style>\n",
       "<table border=\"1\" class=\"dataframe\">\n",
       "  <thead>\n",
       "    <tr style=\"text-align: right;\">\n",
       "      <th></th>\n",
       "      <th>column1</th>\n",
       "      <th>column2</th>\n",
       "      <th>column3</th>\n",
       "      <th>column4</th>\n",
       "    </tr>\n",
       "  </thead>\n",
       "  <tbody>\n",
       "    <tr>\n",
       "      <th>row1</th>\n",
       "      <td>0.178780</td>\n",
       "      <td>0.920643</td>\n",
       "      <td>0.501816</td>\n",
       "      <td>0.983215</td>\n",
       "    </tr>\n",
       "    <tr>\n",
       "      <th>row2</th>\n",
       "      <td>0.574543</td>\n",
       "      <td>0.775354</td>\n",
       "      <td>0.184688</td>\n",
       "      <td>0.109905</td>\n",
       "    </tr>\n",
       "    <tr>\n",
       "      <th>row3</th>\n",
       "      <td>0.116803</td>\n",
       "      <td>0.625295</td>\n",
       "      <td>0.053956</td>\n",
       "      <td>0.164191</td>\n",
       "    </tr>\n",
       "    <tr>\n",
       "      <th>row4</th>\n",
       "      <td>0.747963</td>\n",
       "      <td>0.523414</td>\n",
       "      <td>0.075470</td>\n",
       "      <td>0.244500</td>\n",
       "    </tr>\n",
       "  </tbody>\n",
       "</table>\n",
       "</div>"
      ],
      "text/plain": [
       "       column1   column2   column3   column4\n",
       "row1  0.178780  0.920643  0.501816  0.983215\n",
       "row2  0.574543  0.775354  0.184688  0.109905\n",
       "row3  0.116803  0.625295  0.053956  0.164191\n",
       "row4  0.747963  0.523414  0.075470  0.244500"
      ]
     },
     "execution_count": 24,
     "metadata": {},
     "output_type": "execute_result"
    }
   ],
   "source": [
    "df.drop(index='row5',columns='column5')"
   ]
  },
  {
   "cell_type": "code",
   "execution_count": null,
   "id": "4d0ad9fe",
   "metadata": {},
   "outputs": [],
   "source": []
  },
  {
   "cell_type": "code",
   "execution_count": null,
   "id": "744282b8",
   "metadata": {},
   "outputs": [],
   "source": []
  }
 ],
 "metadata": {
  "kernelspec": {
   "display_name": "Python 3",
   "language": "python",
   "name": "python3"
  },
  "language_info": {
   "codemirror_mode": {
    "name": "ipython",
    "version": 3
   },
   "file_extension": ".py",
   "mimetype": "text/x-python",
   "name": "python",
   "nbconvert_exporter": "python",
   "pygments_lexer": "ipython3",
   "version": "3.8.8"
  }
 },
 "nbformat": 4,
 "nbformat_minor": 5
}
