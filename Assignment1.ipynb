{
 "cells": [
  {
   "cell_type": "code",
   "execution_count": null,
   "id": "b02b5192",
   "metadata": {},
   "outputs": [],
   "source": []
  },
  {
   "cell_type": "code",
   "execution_count": 6,
   "id": "4e75ac92",
   "metadata": {},
   "outputs": [
    {
     "name": "stdout",
     "output_type": "stream",
     "text": [
      "enter principle: 2000\n",
      "enter rate: 4\n",
      "enter time: 3\n"
     ]
    }
   ],
   "source": [
    "principl=float(input(\"enter principle: \"))\n",
    "rate=float(input(\"enter rate: \"))\n",
    "time=float(input(\"enter time: \"))"
   ]
  },
  {
   "cell_type": "code",
   "execution_count": 7,
   "id": "5aa6c691",
   "metadata": {},
   "outputs": [],
   "source": [
    "si=(principl*rate*time)/100"
   ]
  },
  {
   "cell_type": "code",
   "execution_count": 8,
   "id": "00a64b3e",
   "metadata": {},
   "outputs": [
    {
     "name": "stdout",
     "output_type": "stream",
     "text": [
      "simple interest is:  240.0\n"
     ]
    }
   ],
   "source": [
    "print(\"simple interest is: \", si)"
   ]
  },
  {
   "cell_type": "code",
   "execution_count": null,
   "id": "c3b98b2f",
   "metadata": {},
   "outputs": [],
   "source": []
  }
 ],
 "metadata": {
  "kernelspec": {
   "display_name": "Python 3",
   "language": "python",
   "name": "python3"
  },
  "language_info": {
   "codemirror_mode": {
    "name": "ipython",
    "version": 3
   },
   "file_extension": ".py",
   "mimetype": "text/x-python",
   "name": "python",
   "nbconvert_exporter": "python",
   "pygments_lexer": "ipython3",
   "version": "3.8.8"
  }
 },
 "nbformat": 4,
 "nbformat_minor": 5
}
